{
 "cells": [
  {
   "cell_type": "code",
   "execution_count": 4,
   "id": "3668058f-3bf7-4856-989b-3bbbc44b7edf",
   "metadata": {},
   "outputs": [
    {
     "name": "stdout",
     "output_type": "stream",
     "text": [
      "[1.56180518 1.58417352 1.52323337 1.4728589  1.53399721 1.6409665\n",
      " 1.4083511  1.55278044 1.53433581 1.67809883 1.41688685 1.51210553\n",
      " 1.60639107 1.4857458  1.4358195  1.49036866 1.51744887 1.50795217\n",
      " 1.61774301 1.41644493 1.42721093 1.5202163  1.53856311 1.55175567\n",
      " 1.60286494 1.4509284  1.68862425 1.38271869 1.64810791 1.4725221\n",
      " 1.53476725 1.49815347 1.55116009 1.57853495 1.69074811 1.55900246\n",
      " 1.42491722 1.54827256 1.5441569  1.45155267 1.49822692 1.58082657\n",
      " 1.43569203 1.42916751 1.56293609 1.3643362  1.5057102  1.56856124\n",
      " 1.41497395 1.50680248 1.43264639 1.63558812 1.59861372 1.52806568\n",
      " 1.58597604 1.51617489 1.55703682 1.52128901 1.67836888 1.47853941\n",
      " 1.49179291 1.55515449 1.53472259 1.62196477 1.4925039  1.46844011\n",
      " 1.51145779 1.58040727 1.33377242 1.43718424 1.54412436 1.51213086\n",
      " 1.59997128 1.46976544 1.41443031 1.4487676  1.53633071 1.58750546\n",
      " 1.58642098 1.48415268 1.52963955 1.50798458 1.4430803  1.49584613\n",
      " 1.56119038 1.45481674 1.70460217 1.5550377  1.56365126 1.51284761\n",
      " 1.49243812 1.52665089 1.42465228 1.36783796 1.48101005 1.29303659\n",
      " 1.51698734 1.36593474 1.42609965 1.47548063]\n",
      "[1.56180518 1.58417352 1.52323337 1.4728589  1.53399721 1.6409665\n",
      " 1.4083511  1.55278044 1.53433581 1.67809883 1.41688685 1.51210553\n",
      " 1.60639107 1.4857458  1.4358195  1.49036866 1.51744887 1.50795217\n",
      " 1.61774301 1.41644493 1.42721093 1.5202163  1.53856311 1.55175567\n",
      " 1.60286494 1.4509284  1.68862425 1.38271869 1.64810791 1.4725221\n",
      " 1.53476725 1.49815347 1.55116009 1.57853495 1.69074811 1.55900246\n",
      " 1.42491722 1.54827256 1.5441569  1.45155267 1.49822692 1.58082657\n",
      " 1.43569203 1.42916751 1.56293609 1.3643362  1.5057102  1.56856124\n",
      " 1.41497395 1.50680248 1.43264639 1.63558812 1.59861372 1.52806568\n",
      " 1.58597604 1.51617489 1.55703682 1.52128901 1.67836888 1.47853941\n",
      " 1.49179291 1.55515449 1.53472259 1.62196477 1.4925039  1.46844011\n",
      " 1.51145779 1.58040727 1.33377242 1.43718424 1.54412436 1.51213086\n",
      " 1.59997128 1.46976544 1.41443031 1.4487676  1.53633071 1.58750546\n",
      " 1.58642098 1.48415268 1.52963955 1.50798458 1.4430803  1.49584613\n",
      " 1.56119038 1.45481674 1.70460217 1.5550377  1.56365126 1.51284761\n",
      " 1.49243812 1.52665089 1.42465228 1.36783796 1.48101005 1.29303659\n",
      " 1.51698734 1.36593474 1.42609965 1.47548063]\n"
     ]
    },
    {
     "ename": "NameError",
     "evalue": "name 'ClC1' is not defined",
     "output_type": "error",
     "traceback": [
      "\u001b[0;31m---------------------------------------------------------------------------\u001b[0m",
      "\u001b[0;31mNameError\u001b[0m                                 Traceback (most recent call last)",
      "Input \u001b[0;32mIn [4]\u001b[0m, in \u001b[0;36m<cell line: 14>\u001b[0;34m()\u001b[0m\n\u001b[1;32m     11\u001b[0m alpha \u001b[38;5;241m=\u001b[39m \u001b[38;5;241m0.7\u001b[39m\n\u001b[1;32m     13\u001b[0m plt\u001b[38;5;241m.\u001b[39mfigure()\n\u001b[0;32m---> 14\u001b[0m plt\u001b[38;5;241m.\u001b[39mhist(\u001b[43mClC1\u001b[49m, bins\u001b[38;5;241m=\u001b[39mnbins, density\u001b[38;5;241m=\u001b[39m\u001b[38;5;28;01mTrue\u001b[39;00m, color\u001b[38;5;241m=\u001b[39m\u001b[38;5;124m'\u001b[39m\u001b[38;5;124mC3\u001b[39m\u001b[38;5;124m'\u001b[39m, alpha\u001b[38;5;241m=\u001b[39malpha)\n\u001b[1;32m     15\u001b[0m plt\u001b[38;5;241m.\u001b[39mhist(ClC1__, bins\u001b[38;5;241m=\u001b[39mnbins, density\u001b[38;5;241m=\u001b[39m\u001b[38;5;28;01mTrue\u001b[39;00m, color\u001b[38;5;241m=\u001b[39m\u001b[38;5;124m'\u001b[39m\u001b[38;5;124mC0\u001b[39m\u001b[38;5;124m'\u001b[39m, alpha\u001b[38;5;241m=\u001b[39malpha)\n\u001b[1;32m     16\u001b[0m plt\u001b[38;5;241m.\u001b[39mgrid(\u001b[38;5;28;01mTrue\u001b[39;00m)\n",
      "\u001b[0;31mNameError\u001b[0m: name 'ClC1' is not defined"
     ]
    },
    {
     "data": {
      "text/plain": [
       "<Figure size 432x288 with 0 Axes>"
      ]
     },
     "metadata": {},
     "output_type": "display_data"
    }
   ],
   "source": [
    "import numpy as np\n",
    "import matplotlib.pyplot as plt\n",
    "\n",
    "f = np.load('../distances.npy')\n",
    "#print(f)\n",
    "C0C1 = f[0, 1, :]\n",
    "print(c0c1)\n",
    "\n",
    "nbins = 50\n",
    "alpha = 0.7\n",
    "\n",
    "plt.figure()\n",
    "plt.hist(ClC1, bins=nbins, density=True, color='C3', alpha=alpha)\n",
    "plt.hist(ClC1__, bins=nbins, density=True, color='C0', alpha=alpha)\n",
    "plt.grid(True)\n",
    "plt.legend(('all modes', '16 selected modes'))\n",
    "plt.xlabel('C$_1$ - Cl distance ($\\AA$)')\n",
    "plt.ylabel('Proportion')\n",
    "plt.title('C-Cl bond-length')\n",
    "fname = 'C_Cl_bond_length_hist.png'\n",
    "plt.savefig(fname, dpi=300, facecolor='w', edgecolor='w',\n",
    "            orientation='portrait', format=None, transparent=False, \n",
    "            bbox_inches='tight', pad_inches=0.1, metadata=None)\n",
    "\n",
    "\"\"\"\n",
    "plt.figure()\n",
    "plt.hist2d(ClC1, ClC4, bins=nbins)\n",
    "plt.legend(('all modes', '16 selected modes'))\n",
    "plt.xlabel('C$_1$ - Cl distance ($\\AA$)')\n",
    "plt.ylabel('C$_4$ - Cl distance ($\\AA$)')\n",
    "fname = 'C_Cl_distances_hist2d.png'\n",
    "plt.savefig(fname, dpi=300, facecolor='w', edgecolor='w',\n",
    "            orientation='portrait', format=None, transparent=False, \n",
    "            bbox_inches='tight', pad_inches=0.1, metadata=None)\n",
    "\"\"\""
   ]
  },
  {
   "cell_type": "code",
   "execution_count": null,
   "id": "ade8e63e-c4b6-4c3a-b378-72297a350794",
   "metadata": {
    "tags": []
   },
   "outputs": [],
   "source": []
  }
 ],
 "metadata": {
  "kernelspec": {
   "display_name": "Python 3 (ipykernel)",
   "language": "python",
   "name": "python3"
  },
  "language_info": {
   "codemirror_mode": {
    "name": "ipython",
    "version": 3
   },
   "file_extension": ".py",
   "mimetype": "text/x-python",
   "name": "python",
   "nbconvert_exporter": "python",
   "pygments_lexer": "ipython3",
   "version": "3.8.10"
  }
 },
 "nbformat": 4,
 "nbformat_minor": 5
}
