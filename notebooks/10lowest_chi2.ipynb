{
 "cells": [
  {
   "cell_type": "code",
   "execution_count": 9,
   "id": "c3189703-c6c2-44a1-9170-0dfda9a91a1d",
   "metadata": {},
   "outputs": [
    {
     "name": "stdout",
     "output_type": "stream",
     "text": [
      "[-0.35 -0.3  -0.25 -0.2  -0.15 -0.1  -0.05  0.    0.05  0.1   0.15  0.2\n",
      "  0.25  0.3   0.35  0.4   0.45  0.5   0.55  0.6   0.65  0.7   0.75  0.8\n",
      "  0.85  0.9   0.95  1.    1.05  1.1   1.15  1.2   1.25  1.3   1.35  1.4\n",
      "  1.45  1.5   1.55  1.6   1.65  1.7   1.75  1.8   1.85  1.9   1.95  2.\n",
      "  2.05  2.1   2.15  2.2   2.25  2.3   2.35  2.4   2.45  2.5   2.55  2.6\n",
      "  2.65  2.7   2.75  2.8   2.85  2.9   2.95  3.    3.05  3.1   3.15  3.2\n",
      "  3.25  3.3   3.35  3.4   3.45  3.5   3.55  3.6   3.75  3.8   3.85  3.9\n",
      "  3.95  4.  ]\n",
      "86\n",
      "[488887 692061 199351 918371 949575]\n",
      "[[ 1.28644010e+00 -2.69272741e-01 -1.11102004e+00]\n",
      " [ 1.14236997e+00  7.03590500e-01  2.67587802e-01]\n",
      " [ 2.27523597e+00  6.69515654e-01  1.00618356e+00]\n",
      " [-5.36839464e-02 -7.93575920e-02  9.18148523e-01]\n",
      " [ 1.14429741e+00  1.92007103e+00  2.27628086e-01]\n",
      " [-1.19723574e+00  7.62672081e-01  2.31257752e-01]\n",
      " [ 3.04300419e-02 -5.87303601e-01  2.47806644e+00]\n",
      " [ 6.38249885e-04  2.53051616e-01  3.40094723e+00]\n",
      " [ 9.36658278e-01 -1.66989908e+00  2.60574483e+00]\n",
      " [-8.34820763e-01 -1.21483513e+00  2.88579323e+00]\n",
      " [-1.25558060e+00 -2.50121089e-01 -9.66830860e-01]\n",
      " [-1.44202091e+00 -1.33501531e+00 -8.20548476e-01]\n",
      " [-1.63780327e-02 -2.54968280e-01 -1.88295374e+00]\n",
      " [-1.89832311e+00  4.67925538e-01 -1.63333010e+00]\n",
      " [ 1.72039315e+00 -7.56536121e-01 -4.86299075e-01]\n",
      " [ 2.11119337e+00  3.86383671e-01 -1.51243128e+00]\n",
      " [-1.04100146e+00  1.55966114e+00  2.99396884e-02]\n",
      " [-2.04290360e+00  5.84930867e-01  7.13377075e-01]]\n"
     ]
    }
   ],
   "source": [
    "import numpy as np\n",
    "import scipy.io\n",
    "import matplotlib.pyplot as plt\n",
    "\n",
    "chi2_file = np.load('../data/chi2_1000000_allmodes.npz')\n",
    "chi2_array = chi2_file['chi2']\n",
    "\n",
    "# load IAM\n",
    "f = np.load('../data/iam_arrays_1000000_allmodes.npz')\n",
    "q = f['q']\n",
    "pcd = f['pcd']\n",
    "\n",
    "# load experiment data\n",
    "datafile = '../data/NMM_exp_dataset.mat'\n",
    "mat = scipy.io.loadmat(datafile)\n",
    "q_exp = np.squeeze(mat['q'])\n",
    "t_exp = np.squeeze(mat['t'])\n",
    "pcd_exp = mat['iso']\n",
    "errors = mat['iso_stdx']\n",
    "i_pre_t0 = 13\n",
    "t_exp = t_exp[i_pre_t0:]  # remove before t = 0\n",
    "pcd_exp = pcd_exp[:, i_pre_t0:]\n",
    "errors = errors[:, i_pre_t0:]\n",
    "\n",
    "print(t_exp)\n",
    "print(len(t_exp))\n",
    "\n",
    "# indices of 10 lowest values\n",
    "time_step = 50\n",
    "k = 5\n",
    "idx = np.argpartition(np.squeeze(chi2_array[:, time_step]), k)\n",
    "print(idx[:k])\n",
    "\n",
    "# load xyz array\n",
    "xyz_file = np.load('../data/xyz_array_1000000_allmodes.npz')\n",
    "xyz = xyz_file['xyz']\n",
    "\n",
    "print(xyz[:,:,0])"
   ]
  },
  {
   "cell_type": "code",
   "execution_count": null,
   "id": "11bf55a7-dde3-4e10-b62e-f2a7111cc161",
   "metadata": {},
   "outputs": [],
   "source": []
  },
  {
   "cell_type": "markdown",
   "id": "ea07d395-d2e4-44aa-8dac-5d8a6f7c49ef",
   "metadata": {},
   "source": [
    "### "
   ]
  }
 ],
 "metadata": {
  "kernelspec": {
   "display_name": "Python 3 (ipykernel)",
   "language": "python",
   "name": "python3"
  },
  "language_info": {
   "codemirror_mode": {
    "name": "ipython",
    "version": 3
   },
   "file_extension": ".py",
   "mimetype": "text/x-python",
   "name": "python",
   "nbconvert_exporter": "python",
   "pygments_lexer": "ipython3",
   "version": "3.8.10"
  }
 },
 "nbformat": 4,
 "nbformat_minor": 5
}
